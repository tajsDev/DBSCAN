{
 "cells": [
  {
   "cell_type": "markdown",
   "metadata": {
    "id": "pjK-dO8fXY7J"
   },
   "source": [
    "there's a dbscan function from a sklearn library, but maybe we should still write our own dbscan algorithm and then verify it with the sklearn dbscan function?"
   ]
  },
  {
   "cell_type": "code",
   "execution_count": 1,
   "metadata": {
    "id": "JWv17qV4bvcF"
   },
   "outputs": [],
   "source": [
    "import numpy as np\n",
    "import matplotlib.pyplot as plt"
   ]
  },
  {
   "cell_type": "code",
   "execution_count": 1,
   "metadata": {
    "colab": {
     "base_uri": "https://localhost:8080/"
    },
    "id": "DVNEP-SBgYXn",
    "outputId": "5a23aa01-3f56-4ae4-c1f6-ffbbd176c988"
   },
   "outputs": [
    {
     "name": "stdout",
     "output_type": "stream",
     "text": [
      "CSV file 'smiley_face.csv' created successfully.\n"
     ]
    }
   ],
   "source": [
    "import csv\n",
    "import math\n",
    "\n",
    "# Set the parameters for the smiley face\n",
    "center_x = 0\n",
    "center_y = 0\n",
    "radius = 5\n",
    "eye_radius = 0.5\n",
    "eye_offset = 2\n",
    "mouth_radius = 3\n",
    "mouth_angle = math.pi / 3\n",
    "\n",
    "# Generate points for the face\n",
    "face_points = []\n",
    "for angle in range(360):\n",
    "    angle_rad = math.radians(angle)\n",
    "    x = center_x + radius * math.cos(angle_rad)\n",
    "    y = center_y + radius * math.sin(angle_rad)\n",
    "    face_points.append((x, y))\n",
    "\n",
    "# Generate points for the eyes\n",
    "left_eye_center_x = center_x - eye_offset\n",
    "left_eye_center_y = center_y + eye_offset\n",
    "right_eye_center_x = center_x + eye_offset\n",
    "right_eye_center_y = center_y + eye_offset\n",
    "\n",
    "eye_points = []\n",
    "for angle in range(360):\n",
    "    angle_rad = math.radians(angle)\n",
    "    x_left = left_eye_center_x + eye_radius * math.cos(angle_rad)\n",
    "    y_left = left_eye_center_y + eye_radius * math.sin(angle_rad)\n",
    "    x_right = right_eye_center_x + eye_radius * math.cos(angle_rad)\n",
    "    y_right = right_eye_center_y + eye_radius * math.sin(angle_rad)\n",
    "    eye_points.append((x_left, y_left))\n",
    "    eye_points.append((x_right, y_right))\n",
    "\n",
    "# Generate points for the mouth\n",
    "mouth_points = []\n",
    "for angle in range(int(math.degrees(-mouth_angle)), int(math.degrees(mouth_angle)) + 1):\n",
    "    angle_rad = math.radians(angle)\n",
    "    x = center_x + mouth_radius * math.cos(angle_rad)\n",
    "    y = center_y - mouth_radius * math.sin(angle_rad)\n",
    "    mouth_points.append((x, y))\n",
    "\n",
    "# Combine all points\n",
    "points = face_points + eye_points + mouth_points\n",
    "\n",
    "# Save points to CSV file\n",
    "filename = \"smiley_face.csv\"\n",
    "with open(filename, \"w\", newline=\"\") as file:\n",
    "    writer = csv.writer(file)\n",
    "    writer.writerow([\"x\", \"y\"])\n",
    "    writer.writerows(points)\n",
    "\n",
    "print(f\"CSV file '{filename}' created successfully.\")"
   ]
  },
  {
   "cell_type": "code",
   "execution_count": 8,
   "metadata": {
    "colab": {
     "base_uri": "https://localhost:8080/",
     "height": 564
    },
    "id": "UKV0HJstrqqJ",
    "outputId": "3ff5d827-5cb4-4c35-bfed-981b1cc9b06e"
   },
   "outputs": [
    {
     "data": {
      "image/png": "[encoded data removed]",
      "text/plain": [
       "<Figure size 600x600 with 1 Axes>"
      ]
     },
     "metadata": {},
     "output_type": "display_data"
    }
   ],
   "source": [
    "import csv\n",
    "import matplotlib.pyplot as plt\n",
    "\n",
    "# Read data from CSV file\n",
    "x = []\n",
    "y = []\n",
    "with open('smiley_face.csv', 'r') as file:\n",
    "    csv_reader = csv.reader(file)\n",
    "    next(csv_reader)  # Skip the header row\n",
    "    for row in csv_reader:\n",
    "        x.append(float(row[0]))\n",
    "        y.append(float(row[1]))\n",
    "\n",
    "# Create a scatter plot of the smiley face\n",
    "plt.figure(figsize=(6, 6))\n",
    "plt.scatter(x, y, s=10, color='black')\n",
    "plt.axis('equal')\n",
    "plt.title('Smiley Face')\n",
    "plt.xlabel('X')\n",
    "plt.ylabel('Y')\n",
    "plt.show()"
   ]
  },
  {
   "cell_type": "code",
   "execution_count": 2,
   "metadata": {
    "id": "r2Q-ySaUtlZa"
   },
   "outputs": [],
   "source": [
    "import csv\n",
    "import matplotlib.pyplot as plt\n",
    "import numpy as np"
   ]
  },
  {
   "cell_type": "code",
   "execution_count": 3,
   "metadata": {
    "id": "Sn4uPLtctpZ9"
   },
   "outputs": [],
   "source": [
    "def dbscan(data, epsilon, minPts):\n",
    "    labels = [0] * len(data)\n",
    "    clusterID = 0\n",
    "    neighborPts = []\n",
    "    for point in range(len(data)):\n",
    "        if labels[point] != 0:\n",
    "            continue\n",
    "        neighborPts = getNeighbors(data, point, epsilon)\n",
    "        if len(neighborPts) < minPts:\n",
    "            labels[point] = -1\n",
    "        else:\n",
    "            clusterID += 1\n",
    "            growCluster(data, labels, point, neighborPts, clusterID, epsilon, minPts)\n",
    "    return labels"
   ]
  },
  {
   "cell_type": "code",
   "execution_count": 4,
   "metadata": {
    "id": "XLLnEgvRtsym"
   },
   "outputs": [],
   "source": [
    "def getNeighbors(data, point, epsilon):\n",
    "    neighbors = []\n",
    "    for i in range(len(data)):\n",
    "        if euclideanDistance(data[point], data[i]) <= epsilon:\n",
    "            neighbors.append(i)\n",
    "    return neighbors"
   ]
  },
  {
   "cell_type": "code",
   "execution_count": 5,
   "metadata": {
    "id": "kxX5wpz7tvRN"
   },
   "outputs": [],
   "source": [
    "def growCluster(data, labels, point, neighborPts, clusterID, epsilon, minPts):\n",
    "    labels[point] = clusterID\n",
    "    i = 0\n",
    "    while i < len(neighborPts):\n",
    "        pn = neighborPts[i]\n",
    "        if labels[pn] == -1:\n",
    "            labels[pn] = clusterID\n",
    "        elif labels[pn] == 0:\n",
    "            labels[pn] = clusterID\n",
    "            pnNeighborPts = getNeighbors(data, pn, epsilon)\n",
    "            if len(pnNeighborPts) >= minPts:\n",
    "                neighborPts.extend(pnNeighborPts)\n",
    "        i += 1"
   ]
  },
  {
   "cell_type": "code",
   "execution_count": 6,
   "metadata": {
    "id": "f462UY8Dt0-h"
   },
   "outputs": [],
   "source": [
    "def euclideanDistance(point1, point2):\n",
    "    return ((point1[0] - point2[0]) ** 2 + (point1[1] - point2[1]) ** 2) ** 0.5\n"
   ]
  },
  {
   "cell_type": "code",
   "execution_count": 7,
   "metadata": {
    "colab": {
     "base_uri": "https://localhost:8080/",
     "height": 545
    },
    "id": "6F6xYdkTrMIT",
    "outputId": "39cc885b-455f-4f9c-f0ba-91b8e29ab218"
   },
   "outputs": [
    {
     "data": {
      "image/png": "[encoded data removed]",
      "text/plain": [
       "<Figure size 600x600 with 1 Axes>"
      ]
     },
     "metadata": {},
     "output_type": "display_data"
    }
   ],
   "source": [
    "# Read data from CSV file\n",
    "data = []\n",
    "with open('smiley_face.csv', 'r') as file:\n",
    "    csv_reader = csv.reader(file)\n",
    "    next(csv_reader)  # Skip the header row\n",
    "    for row in csv_reader:\n",
    "        x, y = float(row[0]), float(row[1])\n",
    "        data.append([x, y])\n",
    "\n",
    "# Run DBSCAN\n",
    "epsilon = 1.0\n",
    "minPts = 5\n",
    "labels = dbscan(data, epsilon, minPts)\n",
    "\n",
    "# Plot the clusters\n",
    "plt.figure(figsize=(6, 6))\n",
    "unique_labels = set(labels)\n",
    "colors = plt.cm.Spectral(np.linspace(0, 1, len(unique_labels)))\n",
    "for label, color in zip(unique_labels, colors):\n",
    "    if label == -1:\n",
    "        color = 'black'\n",
    "    plt.scatter([p[0] for p, l in zip(data, labels) if l == label],\n",
    "                [p[1] for p, l in zip(data, labels) if l == label],\n",
    "                color=color, label=f'Cluster {label}' if label != -1 else 'Noise')\n",
    "plt.legend()\n",
    "plt.title('DBSCAN Clustering')\n",
    "plt.show()"
   ]
  },
  {
   "cell_type": "code",
   "execution_count": null,
   "metadata": {},
   "outputs": [],
   "source": [
    "# Read data from CSV file\n",
    "data = []\n",
    "with open('ZTF_ra_dec_5m.csv', 'r') as file:\n",
    "    csv_reader = csv.reader(file)\n",
    "    next(csv_reader)  # Skip the header row\n",
    "    for row in csv_reader:\n",
    "        x, y = float(row[0]), float(row[1])\n",
    "        data.append([x, y])\n",
    "\n",
    "# Run DBSCAN\n",
    "epsilon = 1.0\n",
    "minPts = 5\n",
    "labels = dbscan(data, epsilon, minPts)\n",
    "\n",
    "# Plot the clusters\n",
    "plt.figure(figsize=(6, 6))\n",
    "unique_labels = set(labels)\n",
    "colors = plt.cm.Spectral(np.linspace(0, 1, len(unique_labels)))\n",
    "for label, color in zip(unique_labels, colors):\n",
    "    if label == -1:\n",
    "        color = 'black'\n",
    "    plt.scatter([p[0] for p, l in zip(data, labels) if l == label],\n",
    "                [p[1] for p, l in zip(data, labels) if l == label],\n",
    "                color=color, label=f'Cluster {label}' if label != -1 else 'Noise')\n",
    "plt.legend()\n",
    "plt.title('DBSCAN Clustering')\n",
    "plt.show()"
   ]
  },
  {
   "cell_type": "markdown",
   "metadata": {
    "id": "hw4hGJfwca4w"
   },
   "source": [
    "This is the PseudoCode algo"
   ]
  },
  {
   "cell_type": "code",
   "execution_count": null,
   "metadata": {
    "id": "hemGc9HNXvJW"
   },
   "outputs": [],
   "source": [
    "DBSCAN(DB, distFunc, eps, minPts) {\n",
    "    C := 0                                                  /* Cluster counter */\n",
    "    for each point P in database DB {\n",
    "        if label(P) ≠ undefined then continue               /* Previously processed in inner loop */\n",
    "        Neighbors N := RangeQuery(DB, distFunc, P, eps)     /* Find neighbors */\n",
    "        if |N| < minPts then {                              /* Density check */\n",
    "            label(P) := Noise                               /* Label as Noise */\n",
    "            continue\n",
    "        }\n",
    "        C := C + 1                                          /* next cluster label */\n",
    "        label(P) := C                                       /* Label initial point */\n",
    "        SeedSet S := N \\ {P}                                /* Neighbors to expand */\n",
    "        for each point Q in S {                             /* Process every seed point Q */\n",
    "            if label(Q) = Noise then label(Q) := C          /* Change Noise to border point */\n",
    "            if label(Q) ≠ undefined then continue           /* Previously processed (e.g., border point) */\n",
    "            label(Q) := C                                   /* Label neighbor */\n",
    "            Neighbors N := RangeQuery(DB, distFunc, Q, eps) /* Find neighbors */\n",
    "            if |N| ≥ minPts then {                          /* Density check (if Q is a core point) */\n",
    "                S := S ∪ N                                  /* Add new neighbors to seed set */\n",
    "            }\n",
    "        }\n",
    "    }\n",
    "}"
   ]
  }
 ],
 "metadata": {
  "colab": {
   "provenance": []
  },
  "kernelspec": {
   "display_name": "Python 3 (ipykernel)",
   "language": "python",
   "name": "python3"
  },
  "language_info": {
   "codemirror_mode": {
    "name": "ipython",
    "version": 3
   },
   "file_extension": ".py",
   "mimetype": "text/x-python",
   "name": "python",
   "nbconvert_exporter": "python",
   "pygments_lexer": "ipython3",
   "version": "3.11.4"
  }
 },
 "nbformat": 4,
 "nbformat_minor": 1
}
